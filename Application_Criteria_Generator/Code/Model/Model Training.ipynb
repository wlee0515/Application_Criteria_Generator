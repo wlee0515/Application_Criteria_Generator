{
 "cells": [
  {
   "cell_type": "markdown",
   "metadata": {},
   "source": [
    "# Model Training\n",
    "###### by Wilson Lee\n",
    "###### Data Set : China Mobile User Gemographics Source\n",
    "###### Link : https://www.kaggle.com/chinapage/china-mobile-user-gemographics"
   ]
  },
  {
   "cell_type": "markdown",
   "metadata": {},
   "source": [
    "This code will develope a predictor for the the interest vector for the provided database. For a given combination of User age, gender, location, hour of day, and day of week, the model will predict a user interest vector using regression."
   ]
  },
  {
   "cell_type": "code",
   "execution_count": 1,
   "metadata": {},
   "outputs": [],
   "source": [
    "# import the library\n",
    "%matplotlib inline\n",
    "\n",
    "import os\n",
    "import pandas as pd\n",
    "import numpy as np\n",
    "import matplotlib.pyplot as plt\n",
    "import seaborn as sns\n",
    "\n",
    "# sklearn :: utils\n",
    "from sklearn.model_selection import train_test_split\n",
    "from sklearn.model_selection import KFold\n",
    "\n",
    "# sklearn :: models\n",
    "from sklearn.linear_model import LinearRegression\n",
    "from sklearn.ensemble import RandomForestRegressor\n",
    "from sklearn.neighbors import KNeighborsRegressor\n",
    "from sklearn.tree import DecisionTreeRegressor\n",
    "\n",
    "# sklearn :: evaluation metrics\n",
    "from sklearn.metrics import mean_absolute_error\n",
    "from sklearn.metrics import mean_squared_error\n",
    "\n",
    "# multi-output\n",
    "from sklearn.multioutput import MultiOutputRegressor"
   ]
  },
  {
   "cell_type": "markdown",
   "metadata": {},
   "source": [
    "## Load Data"
   ]
  },
  {
   "cell_type": "code",
   "execution_count": 2,
   "metadata": {},
   "outputs": [],
   "source": [
    "wDatabaseFolder = \"../../Data/Modeling/active_apps_data\"\n",
    "\n",
    "list_of_database = []\n",
    "for wRoot, wDirs, wFiles in os.walk(wDatabaseFolder):\n",
    "    for wFilename in wFiles:\n",
    "        wCurrentFilename = os.path.join(wRoot, wFilename)\n",
    "        list_of_database.append(pd.read_csv(wCurrentFilename, index_col=None))\n",
    "            \n",
    "df_database = pd.concat(list_of_database, axis=0, ignore_index= True)\n"
   ]
  },
  {
   "cell_type": "markdown",
   "metadata": {},
   "source": [
    "## View Data"
   ]
  },
  {
   "cell_type": "code",
   "execution_count": 3,
   "metadata": {},
   "outputs": [
    {
     "name": "stdout",
     "output_type": "stream",
     "text": [
      "['age', 'day_of_week', 'hour', '3d', '80', '90', 'abroad', 'academic', 'accommodation', 'accounting', 'action', 'activity', 'adventure', 'advice', 'advisory', 'aggregate', 'air', 'amoy', 'animation', 'answer', 'antique', 'app', 'appliance', 'application', 'area', 'around', 'art', 'asia', 'astrology', 'audiobooks', 'automotive', 'aviation', 'avoid', 'baby', 'bank', 'banking', 'based', 'basketball', 'beauty', 'behalf', 'big', 'billards', 'blog', 'bobble', 'book', 'booking', 'box', 'brokerage', 'bus', 'business', 'buy', 'calendar', 'car', 'card', 'care', 'cartoon', 'casual', 'chain', 'channel', 'checkpoint', 'chess', 'child', 'chinese', 'church', 'class', 'classical', 'clock', 'coach', 'collection', 'college', 'comfortable', 'comic', 'commodity', 'community', 'comparing', 'competitive', 'complex', 'condition', 'consumer', 'contact', 'content', 'convenience', 'cool', 'cosplay', 'cost', 'coupon', 'cozy', 'credit', 'crowdfunding', 'cultivation', 'culture', 'custom', 'customization', 'customized', 'cute', 'cutting', 'dance', 'debit', 'decoration', 'defense', 'desktop', 'destination', 'development', 'dictionary', 'direct', 'disk', 'doctor', 'domestic', 'dotal', 'doudizhu', 'drawing', 'drive', 'editor', 'education', 'effectiveness', 'elimination', 'email', 'engineering', 'enhancement', 'entertainment', 'enthusiasm', 'equity', 'europe', 'exam', 'exchange', 'exercise', 'express', 'family', 'fantasy', 'farm', 'fashion', 'fault', 'favorite', 'fiction', 'fighting', 'file', 'film', 'finance', 'financial', 'financing', 'finding', 'fishing', 'fixed', 'flow', 'football', 'foreign', 'foundation', 'free', 'full', 'fun', 'fund', 'future', 'gambling', 'game', 'gaming', 'gem', 'group_x', 'groupon', 'gym', 'hardware', 'health', 'heritage', 'high', 'higher', 'home', 'horizontal', 'horoscope', 'hotel', 'household', 'housekeeping', 'housing', 'identity', 'imf', 'income', 'industry', 'information', 'instant', 'insurance', 'integrated', 'intellectual', 'internet', 'irritation', 'japan', 'japanese', 'jinyong', 'job', 'joke', 'journal', 'journey', 'kindom', 'knight', 'korea', 'korean', 'ktv', 'label', 'language', 'lianliankan', 'library', 'life', 'like', 'liquid', 'liquidity', 'listening', 'literacy', 'literature', 'living', 'loan', 'lol', 'lose', 'lottery', 'love', 'low', 'lower', 'macao', 'magazine', 'magic', 'mainland', 'majiang', 'make', 'mall', 'man', 'management', 'managemetn', 'map', 'marriage', 'marsh', 'maternal', 'math', 'medical', 'medium', 'message', 'metal', 'millitary', 'mmo', 'moba', 'mobile', 'mobility', 'moderate', 'monetary', 'mother', 'motorcycle', 'movie', 'music', 'mythology', 'nail', 'natural', 'nature', 'navigation', 'net', 'network', 'new', 'news', 'ninja', 'noble', 'non', 'note', 'novel', 'occupational', 'office', 'old', 'online', 'operator', 'ordering', 'outfit', 'outlaw', 'outside', 'overseas', 'owner', 'p2p', 'painting', 'parenting', 'parkour', 'party', 'passion', 'pay', 'payment', 'peace', 'personal', 'pet', 'phone', 'photography', 'picture', 'ping', 'pirated', 'pixel', 'platform', 'play', 'poetry', 'point', 'poker', 'population', 'precious', 'preference', 'pregnant', 'prepare', 'price', 'product', 'professional', 'profitability', 'property', 'purpose', 'pursue', 'pursuit', 'puzzle', 'quality', 'rac', 'racing', 'radio', 'rail', 'raising', 'rate', 'read', 'reader', 'reading', 'realistic', 'realtime', 'recipe', 'region', 'regional', 'related', 'relative', 'reliever', 'rental', 'reputation', 'reservation', 'review', 'risk', 'romance', 'round', 'rpg', 'safety', 'sale', 'scheduling', 'science', 'sea', 'search', 'security', 'seller', 'service', 'share', 'sharing', 'shooting', 'shootout', 'shopping', 'show', 'shushan', 'simple', 'simulation', 'simulator', 'skill', 'skin', 'slg', 'small', 'smart', 'snipe', 'south', 'southeast', 'speed', 'sport', 'stage', 'standard', 'stg', 'stimulate', 'stock', 'store', 'strategy', 'stress', 'student', 'study', 'style', 'supermarket', 'supply', 'system', 'table', 'tactic', 'takeaway', 'tank', 'taxi', 'technology', 'tencent', 'texas', 'thing', 'third', 'ticket', 'tool', 'total', 'tour', 'tourism', 'tower', 'traditional', 'train', 'transport', 'travel', 'trendy', 'tribe', 'turn', 'type', 'united-states', 'user', 'utility', 'vehicle', 'vermicelli', 'version', 'video', 'violence', 'vitality', 'war', 'warcraft', 'wealth', 'wearable', 'weather', 'weibo', 'weight', 'west', 'western', 'wifi', 'world', 'xianxia', 'zombie', 'zuma', 'longitude', 'latitude', 'gender_F', 'gender_M']\n"
     ]
    },
    {
     "data": {
      "text/html": [
       "<div>\n",
       "<style scoped>\n",
       "    .dataframe tbody tr th:only-of-type {\n",
       "        vertical-align: middle;\n",
       "    }\n",
       "\n",
       "    .dataframe tbody tr th {\n",
       "        vertical-align: top;\n",
       "    }\n",
       "\n",
       "    .dataframe thead th {\n",
       "        text-align: right;\n",
       "    }\n",
       "</style>\n",
       "<table border=\"1\" class=\"dataframe\">\n",
       "  <thead>\n",
       "    <tr style=\"text-align: right;\">\n",
       "      <th></th>\n",
       "      <th>age</th>\n",
       "      <th>day_of_week</th>\n",
       "      <th>hour</th>\n",
       "      <th>3d</th>\n",
       "      <th>80</th>\n",
       "      <th>90</th>\n",
       "      <th>abroad</th>\n",
       "      <th>academic</th>\n",
       "      <th>accommodation</th>\n",
       "      <th>accounting</th>\n",
       "      <th>...</th>\n",
       "      <th>western</th>\n",
       "      <th>wifi</th>\n",
       "      <th>world</th>\n",
       "      <th>xianxia</th>\n",
       "      <th>zombie</th>\n",
       "      <th>zuma</th>\n",
       "      <th>longitude</th>\n",
       "      <th>latitude</th>\n",
       "      <th>gender_F</th>\n",
       "      <th>gender_M</th>\n",
       "    </tr>\n",
       "  </thead>\n",
       "  <tbody>\n",
       "    <tr>\n",
       "      <th>0</th>\n",
       "      <td>31</td>\n",
       "      <td>0</td>\n",
       "      <td>7</td>\n",
       "      <td>0.0</td>\n",
       "      <td>0.0</td>\n",
       "      <td>0.0</td>\n",
       "      <td>0.0</td>\n",
       "      <td>0.0</td>\n",
       "      <td>0.0</td>\n",
       "      <td>1.0</td>\n",
       "      <td>...</td>\n",
       "      <td>0.0</td>\n",
       "      <td>0.0</td>\n",
       "      <td>0.0</td>\n",
       "      <td>0.0</td>\n",
       "      <td>0.0</td>\n",
       "      <td>0.0</td>\n",
       "      <td>114.362348</td>\n",
       "      <td>30.871515</td>\n",
       "      <td>1</td>\n",
       "      <td>0</td>\n",
       "    </tr>\n",
       "    <tr>\n",
       "      <th>1</th>\n",
       "      <td>31</td>\n",
       "      <td>0</td>\n",
       "      <td>8</td>\n",
       "      <td>0.0</td>\n",
       "      <td>0.0</td>\n",
       "      <td>0.0</td>\n",
       "      <td>0.0</td>\n",
       "      <td>0.0</td>\n",
       "      <td>0.0</td>\n",
       "      <td>0.0</td>\n",
       "      <td>...</td>\n",
       "      <td>0.0</td>\n",
       "      <td>0.0</td>\n",
       "      <td>0.0</td>\n",
       "      <td>0.0</td>\n",
       "      <td>0.0</td>\n",
       "      <td>0.0</td>\n",
       "      <td>114.362348</td>\n",
       "      <td>30.871515</td>\n",
       "      <td>1</td>\n",
       "      <td>0</td>\n",
       "    </tr>\n",
       "    <tr>\n",
       "      <th>2</th>\n",
       "      <td>31</td>\n",
       "      <td>0</td>\n",
       "      <td>10</td>\n",
       "      <td>0.0</td>\n",
       "      <td>0.0</td>\n",
       "      <td>0.0</td>\n",
       "      <td>0.0</td>\n",
       "      <td>0.0</td>\n",
       "      <td>0.0</td>\n",
       "      <td>0.0</td>\n",
       "      <td>...</td>\n",
       "      <td>0.0</td>\n",
       "      <td>0.0</td>\n",
       "      <td>0.0</td>\n",
       "      <td>0.0</td>\n",
       "      <td>0.0</td>\n",
       "      <td>0.0</td>\n",
       "      <td>114.360000</td>\n",
       "      <td>30.870000</td>\n",
       "      <td>1</td>\n",
       "      <td>0</td>\n",
       "    </tr>\n",
       "    <tr>\n",
       "      <th>3</th>\n",
       "      <td>31</td>\n",
       "      <td>0</td>\n",
       "      <td>20</td>\n",
       "      <td>0.0</td>\n",
       "      <td>0.0</td>\n",
       "      <td>0.0</td>\n",
       "      <td>0.0</td>\n",
       "      <td>0.0</td>\n",
       "      <td>0.0</td>\n",
       "      <td>0.0</td>\n",
       "      <td>...</td>\n",
       "      <td>0.0</td>\n",
       "      <td>0.0</td>\n",
       "      <td>0.0</td>\n",
       "      <td>0.0</td>\n",
       "      <td>0.0</td>\n",
       "      <td>0.0</td>\n",
       "      <td>114.360000</td>\n",
       "      <td>30.870000</td>\n",
       "      <td>1</td>\n",
       "      <td>0</td>\n",
       "    </tr>\n",
       "    <tr>\n",
       "      <th>4</th>\n",
       "      <td>40</td>\n",
       "      <td>0</td>\n",
       "      <td>7</td>\n",
       "      <td>0.0</td>\n",
       "      <td>0.0</td>\n",
       "      <td>0.0</td>\n",
       "      <td>0.0</td>\n",
       "      <td>0.0</td>\n",
       "      <td>0.0</td>\n",
       "      <td>0.0</td>\n",
       "      <td>...</td>\n",
       "      <td>0.0</td>\n",
       "      <td>0.0</td>\n",
       "      <td>0.0</td>\n",
       "      <td>0.0</td>\n",
       "      <td>0.0</td>\n",
       "      <td>0.0</td>\n",
       "      <td>124.888462</td>\n",
       "      <td>46.618974</td>\n",
       "      <td>0</td>\n",
       "      <td>1</td>\n",
       "    </tr>\n",
       "  </tbody>\n",
       "</table>\n",
       "<p>5 rows × 424 columns</p>\n",
       "</div>"
      ],
      "text/plain": [
       "   age  day_of_week  hour   3d   80   90  abroad  academic  accommodation  \\\n",
       "0   31            0     7  0.0  0.0  0.0     0.0       0.0            0.0   \n",
       "1   31            0     8  0.0  0.0  0.0     0.0       0.0            0.0   \n",
       "2   31            0    10  0.0  0.0  0.0     0.0       0.0            0.0   \n",
       "3   31            0    20  0.0  0.0  0.0     0.0       0.0            0.0   \n",
       "4   40            0     7  0.0  0.0  0.0     0.0       0.0            0.0   \n",
       "\n",
       "   accounting  ...  western  wifi  world  xianxia  zombie  zuma   longitude  \\\n",
       "0         1.0  ...      0.0   0.0    0.0      0.0     0.0   0.0  114.362348   \n",
       "1         0.0  ...      0.0   0.0    0.0      0.0     0.0   0.0  114.362348   \n",
       "2         0.0  ...      0.0   0.0    0.0      0.0     0.0   0.0  114.360000   \n",
       "3         0.0  ...      0.0   0.0    0.0      0.0     0.0   0.0  114.360000   \n",
       "4         0.0  ...      0.0   0.0    0.0      0.0     0.0   0.0  124.888462   \n",
       "\n",
       "    latitude  gender_F  gender_M  \n",
       "0  30.871515         1         0  \n",
       "1  30.871515         1         0  \n",
       "2  30.870000         1         0  \n",
       "3  30.870000         1         0  \n",
       "4  46.618974         0         1  \n",
       "\n",
       "[5 rows x 424 columns]"
      ]
     },
     "execution_count": 3,
     "metadata": {},
     "output_type": "execute_result"
    }
   ],
   "source": [
    "print(df_database.columns.to_list())\n",
    "df_database.head()"
   ]
  },
  {
   "cell_type": "markdown",
   "metadata": {},
   "source": [
    "## Model Testing function"
   ]
  },
  {
   "cell_type": "code",
   "execution_count": 4,
   "metadata": {},
   "outputs": [],
   "source": [
    "def evaluation_chart(test, pred, title):\n",
    "    plt.scatter(test, pred, alpha=0.3)\n",
    "    plt.plot(range(0,3, 100), range(0,3, 100), '--r', alpha=0.3, label='Line1')\n",
    "    plt.title(title)\n",
    "    plt.xlabel('True Value')\n",
    "    plt.ylabel('Predict Value')\n",
    "    plt.xlim([0, 3])\n",
    "    plt.ylim([0, 3])\n",
    "    plt.show()\n",
    "\n",
    "def model_training(model, X_train, y_train, X_test):\n",
    "    model.fit(X_train, y_train)\n",
    "    y_pred = model.predict(X_test)\n",
    "    return(y_pred)\n",
    "\n",
    "def model_evaluation_noplot(title, model, y_test, y_pred):\n",
    "    mae = mean_absolute_error(y_test, y_pred)\n",
    "    rmse = np.sqrt(mean_squared_error(y_test, y_pred))\n",
    "    print(\"Model: {0}, MAE: {1}, RMSE: {2}\".format(title,round(mae, 2),round(rmse, 2)))\n",
    "    importance = []\n",
    "    if hasattr(model, 'feature_importances_'):\n",
    "        print('Feature Importance')\n",
    "        importance = []\n",
    "        for i in range(len(X_columns)):\n",
    "            importance.append([X_columns[i], model.feature_importances_[i]])\n",
    "        print(pd.DataFrame(importance).sort_values(by=1, ascending=False).head(10))\n",
    "    return(mae, rmse)\n",
    "\n",
    "\n",
    "def model_evaluation(title, model, y_test, y_pred):\n",
    "    mae, rmse = model_evaluation_noplot(title, model, y_test, y_pred)\n",
    "    evaluation_chart(y_test, y_pred, title)\n",
    "    return(mae, rmse)\n",
    "\n",
    "def run_experiment_noplot(title, model, X_train, y_train, X_test, y_test):\n",
    "    y_pred = model_training(model, X_train, y_train, X_test)\n",
    "    mae, rmse = model_evaluation_noplot(title, model, y_test, y_pred)\n",
    "    return(mae, rmse)\n",
    "\n",
    "def run_experiment(title, model, X_train, y_train, X_test, y_test):\n",
    "    y_pred = model_training(model, X_train, y_train, X_test)\n",
    "    mae, rmse = model_evaluation(title, model, y_test, y_pred)\n",
    "    return(mae, rmse)"
   ]
  },
  {
   "cell_type": "markdown",
   "metadata": {},
   "source": [
    "## Model Definition"
   ]
  },
  {
   "cell_type": "code",
   "execution_count": 5,
   "metadata": {},
   "outputs": [],
   "source": [
    "models = [\n",
    "    ('LinearRegression', MultiOutputRegressor(LinearRegression())),\n",
    "    ('DecisionTreeRegressor', MultiOutputRegressor(DecisionTreeRegressor())),\n",
    "    ('RandomForestRegressor10', MultiOutputRegressor(RandomForestRegressor(n_estimators=10, random_state=5))),\n",
    "#    ('RandomForestRegressor25', MultiOutputRegressor(RandomForestRegressor(n_estimators=25, random_state=5))),\n",
    "#    ('RandomForestRegressor50', MultiOutputRegressor(RandomForestRegressor(n_estimators=50, random_state=5))),\n",
    "#    ('RandomForestRegressor100', MultiOutputRegressor(RandomForestRegressor(n_estimators=100, random_state=5))),\n",
    "#    ('RandomForestRegressor200', MultiOutputRegressor(RandomForestRegressor(n_estimators=200, random_state=5))),\n",
    "#    ('KNeighborsRegressor', MultiOutputRegressor(KNeighborsRegressor())),\n",
    "]"
   ]
  },
  {
   "cell_type": "markdown",
   "metadata": {},
   "source": [
    "## Execution Function"
   ]
  },
  {
   "cell_type": "code",
   "execution_count": 6,
   "metadata": {},
   "outputs": [],
   "source": [
    "def execution(df_data, list_X_column, list_y_column, list_models):\n",
    "    X = df_data[list_X_column]\n",
    "    y = df_data[list_y_column]\n",
    "\n",
    "    threshold = 0.8\n",
    "    X_train, X_test, y_train, y_test = train_test_split(X, y, test_size=1.0-threshold, shuffle=True)\n",
    "\n",
    "    print('X_train', X_train.shape)\n",
    "    print('y_train', y_train.shape)\n",
    "    print('X_test', X_test.shape)\n",
    "    print('y_test', y_test.shape)\n",
    "\n",
    "    results = []\n",
    "    for m in list_models:\n",
    "        precision, recall = run_experiment(m[0], m[1], X_train, y_train, X_test, y_test)\n",
    "        results.append([m[0], precision, recall])\n",
    "    return results\n",
    "\n",
    "def execution_KFold(df_data, list_X_column, list_y_column, list_models):\n",
    "    X = df_data[list_X_column]\n",
    "    y = df_data[list_y_column]\n",
    "    \n",
    "    k = 5\n",
    "    \n",
    "    results = {}\n",
    "    for m in list_models:\n",
    "        print('MODEL', m[0])\n",
    "        results[m[0]] = {'mae':[], 'rmse':[]}\n",
    "        kf = KFold(n_splits=k,shuffle=True, random_state=5)\n",
    "        for train_index, test_index in kf.split(X):\n",
    "            X_train, X_test = X.values[train_index], X.values[test_index]\n",
    "            y_train, y_test = y.values[train_index], y.values[test_index]\n",
    "            mae, rmse = run_experiment_noplot(m[0], m[1], X_train, y_train, X_test, y_test)\n",
    "            results[m[0]]['mae'].append(mae)\n",
    "            results[m[0]]['rmse'].append(rmse)\n",
    "    return results\n"
   ]
  },
  {
   "cell_type": "markdown",
   "metadata": {},
   "source": [
    "## Define Columns to Use"
   ]
  },
  {
   "cell_type": "code",
   "execution_count": 7,
   "metadata": {},
   "outputs": [
    {
     "name": "stdout",
     "output_type": "stream",
     "text": [
      "['age', 'day_of_week', 'hour', 'longitude', 'latitude', 'gender_F', 'gender_M']\n",
      "['3d', '80', '90', 'abroad', 'academic', 'accommodation', 'accounting', 'action', 'activity', 'adventure', 'advice', 'advisory', 'aggregate', 'air', 'amoy', 'animation', 'answer', 'antique', 'app', 'appliance', 'application', 'area', 'around', 'art', 'asia', 'astrology', 'audiobooks', 'automotive', 'aviation', 'avoid', 'baby', 'bank', 'banking', 'based', 'basketball', 'beauty', 'behalf', 'big', 'billards', 'blog', 'bobble', 'book', 'booking', 'box', 'brokerage', 'bus', 'business', 'buy', 'calendar', 'car', 'card', 'care', 'cartoon', 'casual', 'chain', 'channel', 'checkpoint', 'chess', 'child', 'chinese', 'church', 'class', 'classical', 'clock', 'coach', 'collection', 'college', 'comfortable', 'comic', 'commodity', 'community', 'comparing', 'competitive', 'complex', 'condition', 'consumer', 'contact', 'content', 'convenience', 'cool', 'cosplay', 'cost', 'coupon', 'cozy', 'credit', 'crowdfunding', 'cultivation', 'culture', 'custom', 'customization', 'customized', 'cute', 'cutting', 'dance', 'debit', 'decoration', 'defense', 'desktop', 'destination', 'development', 'dictionary', 'direct', 'disk', 'doctor', 'domestic', 'dotal', 'doudizhu', 'drawing', 'drive', 'editor', 'education', 'effectiveness', 'elimination', 'email', 'engineering', 'enhancement', 'entertainment', 'enthusiasm', 'equity', 'europe', 'exam', 'exchange', 'exercise', 'express', 'family', 'fantasy', 'farm', 'fashion', 'fault', 'favorite', 'fiction', 'fighting', 'file', 'film', 'finance', 'financial', 'financing', 'finding', 'fishing', 'fixed', 'flow', 'football', 'foreign', 'foundation', 'free', 'full', 'fun', 'fund', 'future', 'gambling', 'game', 'gaming', 'gem', 'group_x', 'groupon', 'gym', 'hardware', 'health', 'heritage', 'high', 'higher', 'home', 'horizontal', 'horoscope', 'hotel', 'household', 'housekeeping', 'housing', 'identity', 'imf', 'income', 'industry', 'information', 'instant', 'insurance', 'integrated', 'intellectual', 'internet', 'irritation', 'japan', 'japanese', 'jinyong', 'job', 'joke', 'journal', 'journey', 'kindom', 'knight', 'korea', 'korean', 'ktv', 'label', 'language', 'lianliankan', 'library', 'life', 'like', 'liquid', 'liquidity', 'listening', 'literacy', 'literature', 'living', 'loan', 'lol', 'lose', 'lottery', 'love', 'low', 'lower', 'macao', 'magazine', 'magic', 'mainland', 'majiang', 'make', 'mall', 'man', 'management', 'managemetn', 'map', 'marriage', 'marsh', 'maternal', 'math', 'medical', 'medium', 'message', 'metal', 'millitary', 'mmo', 'moba', 'mobile', 'mobility', 'moderate', 'monetary', 'mother', 'motorcycle', 'movie', 'music', 'mythology', 'nail', 'natural', 'nature', 'navigation', 'net', 'network', 'new', 'news', 'ninja', 'noble', 'non', 'note', 'novel', 'occupational', 'office', 'old', 'online', 'operator', 'ordering', 'outfit', 'outlaw', 'outside', 'overseas', 'owner', 'p2p', 'painting', 'parenting', 'parkour', 'party', 'passion', 'pay', 'payment', 'peace', 'personal', 'pet', 'phone', 'photography', 'picture', 'ping', 'pirated', 'pixel', 'platform', 'play', 'poetry', 'point', 'poker', 'population', 'precious', 'preference', 'pregnant', 'prepare', 'price', 'product', 'professional', 'profitability', 'property', 'purpose', 'pursue', 'pursuit', 'puzzle', 'quality', 'rac', 'racing', 'radio', 'rail', 'raising', 'rate', 'read', 'reader', 'reading', 'realistic', 'realtime', 'recipe', 'region', 'regional', 'related', 'relative', 'reliever', 'rental', 'reputation', 'reservation', 'review', 'risk', 'romance', 'round', 'rpg', 'safety', 'sale', 'scheduling', 'science', 'sea', 'search', 'security', 'seller', 'service', 'share', 'sharing', 'shooting', 'shootout', 'shopping', 'show', 'shushan', 'simple', 'simulation', 'simulator', 'skill', 'skin', 'slg', 'small', 'smart', 'snipe', 'south', 'southeast', 'speed', 'sport', 'stage', 'standard', 'stg', 'stimulate', 'stock', 'store', 'strategy', 'stress', 'student', 'study', 'style', 'supermarket', 'supply', 'system', 'table', 'tactic', 'takeaway', 'tank', 'taxi', 'technology', 'tencent', 'texas', 'thing', 'third', 'ticket', 'tool', 'total', 'tour', 'tourism', 'tower', 'traditional', 'train', 'transport', 'travel', 'trendy', 'tribe', 'turn', 'type', 'united-states', 'user', 'utility', 'vehicle', 'vermicelli', 'version', 'video', 'violence', 'vitality', 'war', 'warcraft', 'wealth', 'wearable', 'weather', 'weibo', 'weight', 'west', 'western', 'wifi', 'world', 'xianxia', 'zombie', 'zuma']\n"
     ]
    }
   ],
   "source": [
    "inputColumns = ['age', 'day_of_week', 'hour', 'longitude', 'latitude', 'gender_F', 'gender_M']\n",
    "y_columns = [y for y in df_database.columns if (y not in inputColumns)]\n",
    "X_columns = inputColumns\n",
    "print(X_columns)\n",
    "print(y_columns)"
   ]
  },
  {
   "cell_type": "markdown",
   "metadata": {},
   "source": [
    "## Run Model"
   ]
  },
  {
   "cell_type": "code",
   "execution_count": 8,
   "metadata": {
    "scrolled": true
   },
   "outputs": [
    {
     "name": "stdout",
     "output_type": "stream",
     "text": [
      "MODEL LinearRegression\n",
      "Model: LinearRegression, MAE: 0.08, RMSE: 0.2\n",
      "Model: LinearRegression, MAE: 0.08, RMSE: 0.2\n",
      "Model: LinearRegression, MAE: 0.08, RMSE: 0.2\n",
      "Model: LinearRegression, MAE: 0.08, RMSE: 0.2\n",
      "Model: LinearRegression, MAE: 0.08, RMSE: 0.2\n",
      "MODEL DecisionTreeRegressor\n",
      "Model: DecisionTreeRegressor, MAE: 0.05, RMSE: 0.19\n",
      "Model: DecisionTreeRegressor, MAE: 0.05, RMSE: 0.19\n",
      "Model: DecisionTreeRegressor, MAE: 0.05, RMSE: 0.19\n",
      "Model: DecisionTreeRegressor, MAE: 0.05, RMSE: 0.19\n",
      "Model: DecisionTreeRegressor, MAE: 0.05, RMSE: 0.19\n",
      "MODEL RandomForestRegressor10\n",
      "Model: RandomForestRegressor10, MAE: 0.05, RMSE: 0.17\n",
      "Model: RandomForestRegressor10, MAE: 0.05, RMSE: 0.17\n",
      "Model: RandomForestRegressor10, MAE: 0.05, RMSE: 0.17\n",
      "Model: RandomForestRegressor10, MAE: 0.05, RMSE: 0.17\n",
      "Model: RandomForestRegressor10, MAE: 0.05, RMSE: 0.17\n"
     ]
    }
   ],
   "source": [
    "results = execution_KFold(df_database, X_columns, y_columns, models)"
   ]
  },
  {
   "cell_type": "markdown",
   "metadata": {},
   "source": [
    "## Model performance"
   ]
  },
  {
   "cell_type": "code",
   "execution_count": 9,
   "metadata": {},
   "outputs": [
    {
     "data": {
      "image/png": "[encoded data removed]",
      "text/plain": [
       "<Figure size 864x432 with 1 Axes>"
      ]
     },
     "metadata": {
      "needs_background": "light"
     },
     "output_type": "display_data"
    },
    {
     "data": {
      "image/png": "[encoded data removed]",
      "text/plain": [
       "<Figure size 864x432 with 1 Axes>"
      ]
     },
     "metadata": {
      "needs_background": "light"
     },
     "output_type": "display_data"
    }
   ],
   "source": [
    "for metric in ['mae', 'rmse']:\n",
    "    values = []\n",
    "    labels = []\n",
    "    for model, result_values in results.items():\n",
    "        for m, v in result_values.items():\n",
    "            if m == metric:\n",
    "                labels.append(model)\n",
    "                values.append(v)\n",
    "    plt.figure(figsize=(12,6))\n",
    "    plt.title(metric)\n",
    "    plt.boxplot(values)\n",
    "    plt.xticks(range(1, len(labels)+1), labels, rotation='horizontal')\n",
    "    plt.show()"
   ]
  },
  {
   "cell_type": "markdown",
   "metadata": {},
   "source": [
    "## Select Model with Best RMSE"
   ]
  },
  {
   "cell_type": "code",
   "execution_count": 10,
   "metadata": {},
   "outputs": [
    {
     "data": {
      "text/html": [
       "<div>\n",
       "<style scoped>\n",
       "    .dataframe tbody tr th:only-of-type {\n",
       "        vertical-align: middle;\n",
       "    }\n",
       "\n",
       "    .dataframe tbody tr th {\n",
       "        vertical-align: top;\n",
       "    }\n",
       "\n",
       "    .dataframe thead th {\n",
       "        text-align: right;\n",
       "    }\n",
       "</style>\n",
       "<table border=\"1\" class=\"dataframe\">\n",
       "  <thead>\n",
       "    <tr style=\"text-align: right;\">\n",
       "      <th></th>\n",
       "      <th>model</th>\n",
       "      <th>mae</th>\n",
       "      <th>rmse</th>\n",
       "    </tr>\n",
       "  </thead>\n",
       "  <tbody>\n",
       "    <tr>\n",
       "      <th>2</th>\n",
       "      <td>RandomForestRegressor10</td>\n",
       "      <td>0.052749</td>\n",
       "      <td>0.174192</td>\n",
       "    </tr>\n",
       "    <tr>\n",
       "      <th>0</th>\n",
       "      <td>DecisionTreeRegressor</td>\n",
       "      <td>0.050841</td>\n",
       "      <td>0.193209</td>\n",
       "    </tr>\n",
       "    <tr>\n",
       "      <th>1</th>\n",
       "      <td>LinearRegression</td>\n",
       "      <td>0.082751</td>\n",
       "      <td>0.203345</td>\n",
       "    </tr>\n",
       "  </tbody>\n",
       "</table>\n",
       "</div>"
      ],
      "text/plain": [
       "                     model       mae      rmse\n",
       "2  RandomForestRegressor10  0.052749  0.174192\n",
       "0    DecisionTreeRegressor  0.050841  0.193209\n",
       "1         LinearRegression  0.082751  0.203345"
      ]
     },
     "execution_count": 10,
     "metadata": {},
     "output_type": "execute_result"
    }
   ],
   "source": [
    "# sort the results and print as a table\n",
    "sort_column = \"rmse\"\n",
    "\n",
    "result_col=['model', 'mae', 'rmse']\n",
    "df_results = pd.DataFrame(columns=result_col)\n",
    "for model, result_values in results.items():\n",
    "    for i in range(0, len(result_values['mae'])):\n",
    "        entry=pd.DataFrame([[model, result_values[result_col[1]][i], result_values[result_col[2]][i]]],columns=result_col)\n",
    "        df_results = df_results.append(entry) \n",
    "\n",
    "df_results = df_results.groupby('model').mean().reset_index()\n",
    "df_results = df_results.sort_values(by=sort_column)\n",
    "df_results"
   ]
  },
  {
   "cell_type": "code",
   "execution_count": 14,
   "metadata": {},
   "outputs": [
    {
     "name": "stdout",
     "output_type": "stream",
     "text": [
      "Using Model RandomForestRegressor10\n"
     ]
    }
   ],
   "source": [
    "model_index = df_results[sort_column].idxmin()\n",
    "print(\"Using Model {0}\".format(models[model_index][0]))\n",
    "Selected_Model = [models[model_index]]"
   ]
  },
  {
   "cell_type": "markdown",
   "metadata": {},
   "source": [
    "## Train Best Model with All Data"
   ]
  },
  {
   "cell_type": "code",
   "execution_count": 15,
   "metadata": {},
   "outputs": [
    {
     "name": "stdout",
     "output_type": "stream",
     "text": [
      "X_train (301296, 7)\n",
      "y_train (301296, 417)\n",
      "X_test (75324, 7)\n",
      "y_test (75324, 417)\n",
      "Model: RandomForestRegressor10, MAE: 0.05, RMSE: 0.17\n"
     ]
    },
    {
     "data": {
      "image/png": "[encoded data removed]",
      "text/plain": [
       "<Figure size 432x288 with 1 Axes>"
      ]
     },
     "metadata": {
      "needs_background": "light"
     },
     "output_type": "display_data"
    }
   ],
   "source": [
    "results = execution(df_database, X_columns, y_columns, Selected_Model)"
   ]
  },
  {
   "cell_type": "markdown",
   "metadata": {},
   "source": [
    "## Save Model"
   ]
  },
  {
   "cell_type": "code",
   "execution_count": 17,
   "metadata": {},
   "outputs": [
    {
     "data": {
      "text/plain": [
       "['RandomForestRegressor10.joblib']"
      ]
     },
     "execution_count": 17,
     "metadata": {},
     "output_type": "execute_result"
    }
   ],
   "source": [
    "from joblib import dump, load\n",
    "dump(Selected_Model[0][1], '{0}.joblib'.format(Selected_Model[0][0]))\n"
   ]
  },
  {
   "cell_type": "markdown",
   "metadata": {},
   "source": [
    "## Save other Models"
   ]
  },
  {
   "cell_type": "markdown",
   "metadata": {},
   "source": [
    "The RandomForestRegressor10 model is 4GB in size. Trying to saving other models for smaller size model."
   ]
  },
  {
   "cell_type": "code",
   "execution_count": 18,
   "metadata": {},
   "outputs": [],
   "source": [
    "OtherModels = [x for x in models if x[0] != Selected_Model[0][0]]"
   ]
  },
  {
   "cell_type": "code",
   "execution_count": 19,
   "metadata": {},
   "outputs": [
    {
     "name": "stdout",
     "output_type": "stream",
     "text": [
      "X_train (301296, 7)\n",
      "y_train (301296, 417)\n",
      "X_test (75324, 7)\n",
      "y_test (75324, 417)\n",
      "Model: LinearRegression, MAE: 0.08, RMSE: 0.2\n"
     ]
    },
    {
     "data": {
      "image/png": "[encoded data removed]",
      "text/plain": [
       "<Figure size 432x288 with 1 Axes>"
      ]
     },
     "metadata": {
      "needs_background": "light"
     },
     "output_type": "display_data"
    },
    {
     "name": "stdout",
     "output_type": "stream",
     "text": [
      "Model: DecisionTreeRegressor, MAE: 0.05, RMSE: 0.19\n"
     ]
    },
    {
     "data": {
      "image/png": "[encoded data removed]",
      "text/plain": [
       "<Figure size 432x288 with 1 Axes>"
      ]
     },
     "metadata": {
      "needs_background": "light"
     },
     "output_type": "display_data"
    }
   ],
   "source": [
    "results = execution(df_database, X_columns, y_columns, OtherModels)"
   ]
  },
  {
   "cell_type": "code",
   "execution_count": 20,
   "metadata": {},
   "outputs": [],
   "source": [
    "for othermodel in OtherModels:\n",
    "    dump(othermodel[1], '{0}.joblib'.format(othermodel[0]))"
   ]
  },
  {
   "cell_type": "markdown",
   "metadata": {},
   "source": [
    "Linear Regression Model is 130kb\n",
    "Decision Tree Regression Model is 566Mb\n",
    "\n",
    "Linear Regression Model will be used for web application"
   ]
  },
  {
   "cell_type": "markdown",
   "metadata": {},
   "source": [
    "## Load Selected Model"
   ]
  },
  {
   "cell_type": "code",
   "execution_count": 21,
   "metadata": {},
   "outputs": [],
   "source": [
    "LinearRegressionModel = load('LinearRegression.joblib')\n"
   ]
  },
  {
   "cell_type": "markdown",
   "metadata": {},
   "source": [
    "## Test Loaded Model"
   ]
  },
  {
   "cell_type": "code",
   "execution_count": 22,
   "metadata": {},
   "outputs": [
    {
     "name": "stdout",
     "output_type": "stream",
     "text": [
      "[[ 3.63705496e-05  3.38836718e-05  1.42658475e-04  2.21257073e-04\n",
      "  -9.11265995e-05  1.10443664e-03  7.57077460e-02  2.53286295e-03\n",
      "   1.64043113e-02  9.02039102e-04  9.23937453e-03  2.37192469e-03\n",
      "   3.82034898e-03  7.73343106e-02  6.15514345e-03  7.91896364e-03\n",
      "   6.54406673e-03 -4.35814773e-05  3.08627502e-04  1.19473360e-02\n",
      "   9.69761182e-03  1.00246883e-03  6.56168997e-04  9.16677069e-04\n",
      "   1.54059389e-03  9.53132954e-04  2.56163031e-03  2.43341514e-02\n",
      "   1.55569810e-02  1.40004678e-03  3.94075664e-02  1.70280075e-01\n",
      "   5.36192888e-01  4.92053751e-04  2.58066032e-04  2.92258437e-03\n",
      "   1.71027201e-03  2.40328551e-03  9.19379580e-04  1.53360173e-02\n",
      "   3.97805667e-04  6.44970115e-03  7.71264903e-02  6.92032697e-03\n",
      "   1.40382944e-02  9.23467833e-03  2.74216438e-03  4.76414796e-02\n",
      "   1.84480699e-02  5.41088776e-02  1.01184232e-01  2.82256617e-03\n",
      "   2.03501505e-02  2.86479079e-03  5.56787557e-03  6.89311263e-02\n",
      "   2.11047078e-03  1.04430121e-02  3.80974400e-02  2.85758680e-03\n",
      "   5.59152653e-01  8.03459056e-02  1.47865685e-04 -2.71729545e-05\n",
      "   2.87082492e-03 -4.35814773e-05  4.29247833e-03  3.68826112e-03\n",
      "   2.78032970e-02  8.09813006e-03  1.28577915e-01  1.70103373e-02\n",
      "   2.08385820e-03  2.85861950e-03  2.22891933e-02  2.29179824e-01\n",
      "   3.11511417e-02  1.03830423e-02  6.56244677e-02  5.08469902e-02\n",
      "   1.94940757e-05  1.54488702e-01  2.81683143e-03  2.05520266e-01\n",
      "   4.27326605e-01  2.52020310e-02  3.47452650e-04  9.16677069e-04\n",
      "   5.88781504e-01  3.04928736e-02  7.64804124e-02  1.86849533e-02\n",
      "   3.22673093e-04  4.18310434e-03  4.13838305e-01  1.08059486e-03\n",
      "   3.05357554e-04  8.16227774e-05  2.01726391e-04  2.45361742e-03\n",
      "   1.08617371e-02  9.23433788e-02  4.09040074e-02  1.47029994e-04\n",
      "   9.65731283e-04  5.10560155e-04  9.59271015e-03  4.99417750e-05\n",
      "   1.71027201e-03  1.64736847e-02  1.00120034e-02  4.10152622e-01\n",
      "   1.94668856e-02  3.02349728e-04  4.99417750e-05  8.16227774e-05\n",
      "   8.50213698e-03  9.39174936e-04  2.32014844e-03  4.52728954e-03\n",
      "   4.12649975e-03  6.20496086e-03  2.17047108e-03  5.51820746e-03\n",
      "   1.21191762e-02  3.47452650e-04  5.31530027e-04  3.04633232e-01\n",
      "   2.48843355e-04 -2.22302374e-05  1.03767498e-05  6.49978783e-04\n",
      "   1.63292721e-02  5.41705294e-02  5.57779754e-01  1.94615782e-01\n",
      "   1.56709004e-01  2.48843355e-04  2.13704680e-03  7.13084416e-02\n",
      "   3.97366902e-01  1.53214685e-04  1.07215295e-02  7.39322680e-03\n",
      "   4.09798194e-01  1.03811434e-03  3.54714705e-02  3.18966807e-02\n",
      "   8.15597688e-03  4.31874029e-03  9.08079846e-02  1.00727240e-02\n",
      "   6.20744311e-05  5.84839356e-02  5.84839356e-02  4.52204461e-02\n",
      "   1.32091449e-04  7.08385533e-02  7.39322680e-03  5.21144754e-01\n",
      "   2.36171599e-01  9.44450594e-04  6.93545723e-04  9.53132954e-04\n",
      "   1.18673230e-02  1.47788800e-04  1.78384845e-04  9.23937453e-03\n",
      "   4.43950832e-03  6.41537193e-02  3.20430604e-01  9.00365857e-01\n",
      "   1.27376140e-01  6.44880863e-01  7.85860395e-03  9.10866795e-02\n",
      "   2.45361742e-03  5.44972963e-01  3.41352345e-02  4.30394324e-05\n",
      "   4.32741235e-03  8.44554903e-05  4.20244604e-02  7.95296389e-03\n",
      "   2.67258556e-03  1.02573287e-03  2.49896363e-03  6.33936187e-04\n",
      "   4.30394324e-05  3.94982542e-03  2.47687108e-07  5.88781504e-01\n",
      "   1.07215295e-02  2.03304897e-04  2.21986194e-03  1.24365711e-03\n",
      "   5.84839356e-02  3.06875436e-01  1.55501653e-01  1.81252156e-03\n",
      "  -2.84188208e-05  3.38125563e-02  4.21465873e-02  4.14628948e-01\n",
      "   5.10560155e-04  1.49535821e-03  2.12246868e-02  1.55729465e-02\n",
      "   4.93245040e-01  5.26484561e-03  1.44657019e-04  2.67258556e-03\n",
      "   5.84337297e-03  1.00246883e-03  2.03877308e-03  2.05410731e-04\n",
      "   3.41096875e-01 -2.22302374e-05  3.02641857e-01  3.31539072e-03\n",
      "   6.51109009e-02  1.54529474e-02  3.60812276e-06  3.81188666e-02\n",
      "   1.50392746e-04  3.62996529e-02  3.07921259e-01  6.44880863e-01\n",
      "   1.75550215e-03  3.56815526e-03  1.78490506e-03  3.30473316e-04\n",
      "   1.15199480e-01  5.39289199e-02  3.93199294e-01  3.18351118e-02\n",
      "  -2.19445153e-05  4.00331356e-05  7.90939245e-04  2.26556992e-01\n",
      "   9.73973472e-05  5.50606519e-04 -3.83439585e-04  1.09001028e-01\n",
      "   4.58531877e-02  3.83771428e-01  4.09040074e-02  1.92284475e-02\n",
      "   9.95782796e-02  2.50171410e-04  6.87805535e-03  1.10443664e-03\n",
      "   9.71237222e-02  1.69639075e-02  4.43950832e-03  2.59710965e-05\n",
      "   9.27903905e-04  3.73526359e-01 -2.29440197e-05  4.34474759e-02\n",
      "   5.46091121e-03  3.60812276e-06  5.25810374e-03  2.12280602e-03\n",
      "   3.96027248e-02  3.95868515e-01  5.35085072e-04  1.07772094e-02\n",
      "   3.40799220e-03  4.16435010e-01  5.19833879e-02  4.69485658e-01\n",
      "   3.92391836e-01 -1.18855772e-04  4.10152622e-01  1.27792032e-03\n",
      "   1.64407448e-04  1.00499650e-01  1.16484112e-01 -7.56315070e-05\n",
      "   1.03830423e-02  3.68652779e-04  6.42905550e-02 -2.22302374e-05\n",
      "   4.27503564e-04  1.64043113e-02  1.46682877e-02  3.81188666e-02\n",
      "   1.75550215e-03  1.81071559e-05  2.64035936e-02  2.35837992e-02\n",
      "   1.70103373e-02  5.32546739e-02  8.76742670e-03  4.58062725e-01\n",
      "   9.00365857e-01  2.36250598e-02  1.08152446e-01  6.20546637e-02\n",
      "   1.32196681e-02  8.60724319e-02  2.14565848e-04  4.28774177e-04\n",
      "   1.26190834e-01  1.20160523e-02  1.31595632e-04  1.33800541e-03\n",
      "   2.20490105e-02  2.21419479e-03  6.56306442e-02  3.09596134e-03\n",
      "   6.49978783e-04  2.28784660e-03  2.01726391e-04  6.06164927e-05\n",
      "   1.32091449e-04  6.51793679e-01  1.56872394e-03  2.99885302e-03\n",
      "   3.49500469e-02  1.44641210e-02  1.99108867e-02  5.58491927e-01\n",
      "  -5.35345702e-06  4.31246738e-04  9.31410881e-03  4.32242647e-05\n",
      "   6.07939330e-03  2.24586819e-02  1.54234824e-01  6.15514345e-03\n",
      "  -1.18855772e-04  9.65955637e-02  1.22910121e-03  7.02083952e-01\n",
      "   1.31470147e-03  2.48671503e-02  3.52193238e-03  9.30553889e-04\n",
      "   1.80038026e-01  2.67916183e-02  1.68700897e-05  2.36057271e-02\n",
      "   9.31468428e-04  2.34909528e-04  8.76742670e-03  1.84984382e-04\n",
      "   4.78431954e-03  1.94561928e-03  1.13375734e-01  3.97178711e-04\n",
      "   4.30394324e-05  1.40299400e-05  1.20160523e-02  6.03429219e-02\n",
      "   9.12178303e-03  1.10443664e-03  9.30553889e-04  1.52195210e-03\n",
      "   4.79037226e-02  1.99500398e-02  1.47629143e-02  1.56872394e-03\n",
      "   4.29247833e-03  2.21257073e-04  2.62904830e-02  3.29701032e-02\n",
      "   5.67079885e-03  3.77723424e-03  3.32928797e-03  1.23042898e-02\n",
      "   4.34474759e-02  4.03566366e-04  1.33509510e-01  2.38968995e-01\n",
      "   1.22958653e-01  5.16029172e-04  3.22673093e-04  4.16435010e-01\n",
      "   2.23829559e-02  4.92999632e-03  1.54579568e-01  6.74276153e-04\n",
      "   5.32082561e-02  3.05357554e-04  1.52162844e-02  1.92118194e-02\n",
      "   2.29750437e-03  7.88407395e-02  5.08469902e-02  2.55780193e-04\n",
      "   4.92053751e-04  7.83325361e-03  4.52728954e-03  6.25009886e-04\n",
      "   2.59337762e-03  2.22891933e-02  2.05001906e-04  6.93545723e-04\n",
      "   3.02216277e-01  2.26618746e-04  3.95828332e-02  3.72784092e-03\n",
      "  -5.88314193e-07  2.72276043e-01  2.22497547e-02  2.29193934e-03\n",
      "   1.98008378e-01  1.49535821e-03  1.02573287e-03  7.63463045e-05\n",
      "   2.72532944e-03 -5.88314193e-07  4.04065236e-04  3.23092747e-04\n",
      "   4.02430657e-05]]\n"
     ]
    }
   ],
   "source": [
    "# Input['age', 'day_of_week', 'hour', 'longitude', 'latitude', 'gender_F', 'gender_M']\n",
    "iAge = 25\n",
    "iDay_of_Week = 0\n",
    "iHour = 23\n",
    "iLongitude = 121.38\n",
    "iLatitude = 31.24\n",
    "iSex = \"Male\"\n",
    "prediction = LinearRegressionModel.predict([[iAge, iDay_of_Week, iHour, iLongitude, iLatitude, (iSex != \"Male\"), (iSex == \"Male\")]])\n",
    "print(prediction)"
   ]
  },
  {
   "cell_type": "code",
   "execution_count": 38,
   "metadata": {},
   "outputs": [
    {
     "data": {
      "text/html": [
       "<div>\n",
       "<style scoped>\n",
       "    .dataframe tbody tr th:only-of-type {\n",
       "        vertical-align: middle;\n",
       "    }\n",
       "\n",
       "    .dataframe tbody tr th {\n",
       "        vertical-align: top;\n",
       "    }\n",
       "\n",
       "    .dataframe thead th {\n",
       "        text-align: right;\n",
       "    }\n",
       "</style>\n",
       "<table border=\"1\" class=\"dataframe\">\n",
       "  <thead>\n",
       "    <tr style=\"text-align: right;\">\n",
       "      <th></th>\n",
       "      <th>3d</th>\n",
       "      <th>80</th>\n",
       "      <th>90</th>\n",
       "      <th>abroad</th>\n",
       "      <th>academic</th>\n",
       "      <th>accommodation</th>\n",
       "      <th>accounting</th>\n",
       "      <th>action</th>\n",
       "      <th>activity</th>\n",
       "      <th>adventure</th>\n",
       "      <th>...</th>\n",
       "      <th>weather</th>\n",
       "      <th>weibo</th>\n",
       "      <th>weight</th>\n",
       "      <th>west</th>\n",
       "      <th>western</th>\n",
       "      <th>wifi</th>\n",
       "      <th>world</th>\n",
       "      <th>xianxia</th>\n",
       "      <th>zombie</th>\n",
       "      <th>zuma</th>\n",
       "    </tr>\n",
       "  </thead>\n",
       "  <tbody>\n",
       "    <tr>\n",
       "      <th>0</th>\n",
       "      <td>0.000036</td>\n",
       "      <td>0.000034</td>\n",
       "      <td>0.000143</td>\n",
       "      <td>0.000221</td>\n",
       "      <td>-0.000091</td>\n",
       "      <td>0.001104</td>\n",
       "      <td>0.075708</td>\n",
       "      <td>0.002533</td>\n",
       "      <td>0.016404</td>\n",
       "      <td>0.000902</td>\n",
       "      <td>...</td>\n",
       "      <td>0.002292</td>\n",
       "      <td>0.198008</td>\n",
       "      <td>0.001495</td>\n",
       "      <td>0.001026</td>\n",
       "      <td>0.000076</td>\n",
       "      <td>0.002725</td>\n",
       "      <td>-5.883142e-07</td>\n",
       "      <td>0.000404</td>\n",
       "      <td>0.000323</td>\n",
       "      <td>0.00004</td>\n",
       "    </tr>\n",
       "  </tbody>\n",
       "</table>\n",
       "<p>1 rows × 417 columns</p>\n",
       "</div>"
      ],
      "text/plain": [
       "         3d        80        90    abroad  academic  accommodation  \\\n",
       "0  0.000036  0.000034  0.000143  0.000221 -0.000091       0.001104   \n",
       "\n",
       "   accounting    action  activity  adventure  ...   weather     weibo  \\\n",
       "0    0.075708  0.002533  0.016404   0.000902  ...  0.002292  0.198008   \n",
       "\n",
       "     weight      west   western      wifi         world   xianxia    zombie  \\\n",
       "0  0.001495  0.001026  0.000076  0.002725 -5.883142e-07  0.000404  0.000323   \n",
       "\n",
       "      zuma  \n",
       "0  0.00004  \n",
       "\n",
       "[1 rows x 417 columns]"
      ]
     },
     "execution_count": 38,
     "metadata": {},
     "output_type": "execute_result"
    }
   ],
   "source": [
    "oPrediction = pd.DataFrame(prediction, columns=y_columns)\n",
    "oPrediction"
   ]
  },
  {
   "cell_type": "code",
   "execution_count": 39,
   "metadata": {},
   "outputs": [
    {
     "data": {
      "text/html": [
       "<div>\n",
       "<style scoped>\n",
       "    .dataframe tbody tr th:only-of-type {\n",
       "        vertical-align: middle;\n",
       "    }\n",
       "\n",
       "    .dataframe tbody tr th {\n",
       "        vertical-align: top;\n",
       "    }\n",
       "\n",
       "    .dataframe thead th {\n",
       "        text-align: right;\n",
       "    }\n",
       "</style>\n",
       "<table border=\"1\" class=\"dataframe\">\n",
       "  <thead>\n",
       "    <tr style=\"text-align: right;\">\n",
       "      <th></th>\n",
       "      <th>Value</th>\n",
       "    </tr>\n",
       "  </thead>\n",
       "  <tbody>\n",
       "    <tr>\n",
       "      <th>industry</th>\n",
       "      <td>0.900</td>\n",
       "    </tr>\n",
       "    <tr>\n",
       "      <th>property</th>\n",
       "      <td>0.900</td>\n",
       "    </tr>\n",
       "    <tr>\n",
       "      <th>service</th>\n",
       "      <td>0.702</td>\n",
       "    </tr>\n",
       "    <tr>\n",
       "      <th>relative</th>\n",
       "      <td>0.652</td>\n",
       "    </tr>\n",
       "    <tr>\n",
       "      <th>instant</th>\n",
       "      <td>0.645</td>\n",
       "    </tr>\n",
       "    <tr>\n",
       "      <th>message</th>\n",
       "      <td>0.645</td>\n",
       "    </tr>\n",
       "    <tr>\n",
       "      <th>custom</th>\n",
       "      <td>0.589</td>\n",
       "    </tr>\n",
       "    <tr>\n",
       "      <th>label</th>\n",
       "      <td>0.589</td>\n",
       "    </tr>\n",
       "    <tr>\n",
       "      <th>church</th>\n",
       "      <td>0.559</td>\n",
       "    </tr>\n",
       "    <tr>\n",
       "      <th>risk</th>\n",
       "      <td>0.558</td>\n",
       "    </tr>\n",
       "    <tr>\n",
       "      <th>finance</th>\n",
       "      <td>0.558</td>\n",
       "    </tr>\n",
       "    <tr>\n",
       "      <th>internet</th>\n",
       "      <td>0.545</td>\n",
       "    </tr>\n",
       "    <tr>\n",
       "      <th>banking</th>\n",
       "      <td>0.536</td>\n",
       "    </tr>\n",
       "    <tr>\n",
       "      <th>high</th>\n",
       "      <td>0.521</td>\n",
       "    </tr>\n",
       "    <tr>\n",
       "      <th>low</th>\n",
       "      <td>0.493</td>\n",
       "    </tr>\n",
       "    <tr>\n",
       "      <th>pay</th>\n",
       "      <td>0.469</td>\n",
       "    </tr>\n",
       "    <tr>\n",
       "      <th>profitability</th>\n",
       "      <td>0.458</td>\n",
       "    </tr>\n",
       "    <tr>\n",
       "      <th>credit</th>\n",
       "      <td>0.427</td>\n",
       "    </tr>\n",
       "    <tr>\n",
       "      <th>party</th>\n",
       "      <td>0.416</td>\n",
       "    </tr>\n",
       "    <tr>\n",
       "      <th>third</th>\n",
       "      <td>0.416</td>\n",
       "    </tr>\n",
       "  </tbody>\n",
       "</table>\n",
       "</div>"
      ],
      "text/plain": [
       "               Value\n",
       "industry       0.900\n",
       "property       0.900\n",
       "service        0.702\n",
       "relative       0.652\n",
       "instant        0.645\n",
       "message        0.645\n",
       "custom         0.589\n",
       "label          0.589\n",
       "church         0.559\n",
       "risk           0.558\n",
       "finance        0.558\n",
       "internet       0.545\n",
       "banking        0.536\n",
       "high           0.521\n",
       "low            0.493\n",
       "pay            0.469\n",
       "profitability  0.458\n",
       "credit         0.427\n",
       "party          0.416\n",
       "third          0.416"
      ]
     },
     "execution_count": 39,
     "metadata": {},
     "output_type": "execute_result"
    }
   ],
   "source": [
    "oPrediction = oPrediction.transpose()\n",
    "oPrediction.columns = [\"Value\"]\n",
    "oPrediction = oPrediction.sort_values(\"Value\", ascending=False).round(3)\n",
    "oPrediction.head(20)"
   ]
  },
  {
   "cell_type": "markdown",
   "metadata": {},
   "source": [
    "## Observation"
   ]
  },
  {
   "cell_type": "markdown",
   "metadata": {},
   "source": [
    "Model Ouput is similar to the results received when adding all the interest vector values together during Exploration analysis. Chart from Exploratino Analysis below."
   ]
  },
  {
   "attachments": {
    "image.png": {
     "image/png": "[encoded data removed]"
    }
   },
   "cell_type": "markdown",
   "metadata": {},
   "source": [
    "![image.png](attachment:image.png)"
   ]
  },
  {
   "cell_type": "code",
   "execution_count": null,
   "metadata": {},
   "outputs": [],
   "source": []
  }
 ],
 "metadata": {
  "kernelspec": {
   "display_name": "Python 3",
   "language": "python",
   "name": "python3"
  },
  "language_info": {
   "codemirror_mode": {
    "name": "ipython",
    "version": 3
   },
   "file_extension": ".py",
   "mimetype": "text/x-python",
   "name": "python",
   "nbconvert_exporter": "python",
   "pygments_lexer": "ipython3",
   "version": "3.7.1"
  }
 },
 "nbformat": 4,
 "nbformat_minor": 2
}
